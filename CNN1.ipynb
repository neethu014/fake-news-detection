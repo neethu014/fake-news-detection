{
 "cells": [
  {
   "cell_type": "code",
   "execution_count": null,
   "id": "246dabd9",
   "metadata": {},
   "outputs": [],
   "source": [
    "import numpy as np\n",
    "import pandas as pd\n",
    "import seaborn as sns\n",
    "import matplotlib.pyplot as plt\n",
    "import nltk\n",
    "from sklearn.feature_extraction.text import CountVectorizer\n",
    "from sklearn.feature_extraction.text import TfidfVectorizer\n",
    "from sklearn.preprocessing import LabelBinarizer\n",
    "from nltk.corpus import stopwords\n",
    "from nltk.stem.porter import PorterStemmer\n",
    "from wordcloud import WordCloud,STOPWORDS\n",
    "from nltk.stem import WordNetLemmatizer\n",
    "from nltk.tokenize import word_tokenize,sent_tokenize\n",
    "from bs4 import BeautifulSoup\n",
    "import re,string,unicodedata\n",
    "from nltk.tokenize.toktok import ToktokTokenizer\n",
    "from nltk.stem import PorterStemmer,WordNetLemmatizer\n",
    "from sklearn.metrics import classification_report,confusion_matrix,accuracy_score\n",
    "from sklearn.model_selection import train_test_split\n",
    "from string import punctuation\n",
    "from nltk import pos_tag\n",
    "from nltk.corpus import wordnet\n",
    "import keras\n",
    "from keras.models import Sequential\n",
    "from keras.layers import Dense\n",
    "import tensorflow as tf"
   ]
  },
  {
   "cell_type": "code",
   "execution_count": null,
   "id": "277e8d88",
   "metadata": {},
   "outputs": [],
   "source": [
    "data=pd.read_csv(\"Fake.csv\")\n",
    "data.head()"
   ]
  },
  {
   "cell_type": "code",
   "execution_count": null,
   "id": "b240b15f",
   "metadata": {},
   "outputs": [],
   "source": [
    "true = pd.read_csv(\"Fake.csv\")\n",
    "false = pd.read_csv(\"Fake.csv\")\n"
   ]
  },
  {
   "cell_type": "code",
   "execution_count": null,
   "id": "e0aff73f",
   "metadata": {},
   "outputs": [],
   "source": [
    "true.head()"
   ]
  },
  {
   "cell_type": "code",
   "execution_count": null,
   "id": "9e194108",
   "metadata": {},
   "outputs": [],
   "source": [
    "false.head()"
   ]
  },
  {
   "cell_type": "code",
   "execution_count": null,
   "id": "d877228b",
   "metadata": {},
   "outputs": [],
   "source": [
    "true['category'] = 1\n",
    "false['category'] = 0"
   ]
  },
  {
   "cell_type": "code",
   "execution_count": null,
   "id": "61901018",
   "metadata": {},
   "outputs": [],
   "source": [
    "true.head()"
   ]
  },
  {
   "cell_type": "code",
   "execution_count": null,
   "id": "1f9a7be4",
   "metadata": {},
   "outputs": [],
   "source": [
    "df = pd.concat([true,false]) "
   ]
  },
  {
   "cell_type": "code",
   "execution_count": null,
   "id": "3042a2a6",
   "metadata": {},
   "outputs": [],
   "source": [
    "df.head()"
   ]
  },
  {
   "cell_type": "code",
   "execution_count": null,
   "id": "d5db8a8b",
   "metadata": {},
   "outputs": [],
   "source": [
    "df.isna().sum()\n",
    "df.title.count()\n",
    "df.subject.value_counts()\n",
    "df.head()"
   ]
  },
  {
   "cell_type": "code",
   "execution_count": null,
   "id": "ac8b9091",
   "metadata": {},
   "outputs": [],
   "source": [
    "df['text'] = df['text'] + \" \" + df['title'] + \" \" + df['subject']\n",
    "del df['title']\n",
    "del df['subject']\n",
    "del df['date']"
   ]
  },
  {
   "cell_type": "code",
   "execution_count": null,
   "id": "fc4ad3a5",
   "metadata": {},
   "outputs": [],
   "source": [
    "df.head()"
   ]
  },
  {
   "cell_type": "code",
   "execution_count": null,
   "id": "a6605735",
   "metadata": {},
   "outputs": [],
   "source": [
    "stop = set(stopwords.words('english'))\n",
    "punctuation = list(string.punctuation)\n",
    "stop.update(punctuation)"
   ]
  },
  {
   "cell_type": "code",
   "execution_count": null,
   "id": "8d284afe",
   "metadata": {},
   "outputs": [],
   "source": [
    "stop"
   ]
  },
  {
   "cell_type": "code",
   "execution_count": null,
   "id": "446e06c8",
   "metadata": {},
   "outputs": [],
   "source": [
    "stemmer = PorterStemmer()\n",
    "def stem_text(text):\n",
    "    final_text = []\n",
    "    for i in text.split():\n",
    "        if i.strip().lower() not in stop:\n",
    "            word = stemmer.stem(i.strip())\n",
    "            final_text.append(word)\n",
    "    return \" \".join(final_text) "
   ]
  },
  {
   "cell_type": "code",
   "execution_count": null,
   "id": "df116f6e",
   "metadata": {},
   "outputs": [],
   "source": [
    "df.text = df.text.apply(stem_text)"
   ]
  },
  {
   "cell_type": "code",
   "execution_count": null,
   "id": "1618eb28",
   "metadata": {},
   "outputs": [],
   "source": [
    "plt.figure(figsize = (20,20))\n",
    "wc = WordCloud(max_words = 3000 , width = 1600 , height = 800 , stopwords = STOPWORDS).generate(\" \".join(df.text))\n",
    "plt.imshow(wc , interpolation = 'bilinear')"
   ]
  },
  {
   "cell_type": "code",
   "execution_count": null,
   "id": "f263141c",
   "metadata": {},
   "outputs": [],
   "source": [
    "x_train,x_test,y_train,y_test = train_test_split(df.text,df.category)\n"
   ]
  },
  {
   "cell_type": "code",
   "execution_count": null,
   "id": "9c58eafb",
   "metadata": {},
   "outputs": [],
   "source": [
    "cv=CountVectorizer(min_df=0,max_df=1,ngram_range=(1,2))\n",
    "#transformed train reviews\n",
    "cv_train_reviews=cv.fit_transform(x_train)\n",
    "#transformed test reviews\n",
    "cv_test_reviews=cv.transform(x_test)"
   ]
  },
  {
   "cell_type": "code",
   "execution_count": null,
   "id": "b10c2587",
   "metadata": {},
   "outputs": [],
   "source": [
    "y_train"
   ]
  },
  {
   "cell_type": "code",
   "execution_count": null,
   "id": "5bdab109",
   "metadata": {},
   "outputs": [],
   "source": [
    "print('BOW_cv_train:',cv_train_reviews.shape)\n",
    "print('BOW_cv_test:',cv_test_reviews.shape)"
   ]
  },
  {
   "cell_type": "code",
   "execution_count": null,
   "id": "6627eb57",
   "metadata": {},
   "outputs": [],
   "source": [
    "model = Sequential()\n",
    "model.add(Dense(units = 100 , activation = 'relu' , input_dim = cv_train_reviews.shape[1]))\n",
    "model.add(Dense(units = 50 , activation = 'relu'))\n",
    "model.add(Dense(units = 25 , activation = 'relu'))\n",
    "model.add(Dense(units = 10 , activation = 'relu'))\n",
    "model.add(Dense(units = 1 , activation = 'sigmoid'))"
   ]
  },
  {
   "cell_type": "code",
   "execution_count": null,
   "id": "1df35f20",
   "metadata": {},
   "outputs": [],
   "source": [
    "model.compile(optimizer = 'adam' , loss = 'binary_crossentropy' , metrics = ['accuracy'])\n"
   ]
  },
  {
   "cell_type": "code",
   "execution_count": null,
   "id": "c51168f6",
   "metadata": {},
   "outputs": [],
   "source": [
    "batch_size = 32\n",
    "num_samples = cv_train_reviews.shape[0]\n",
    "num_batches = num_samples // batch_size\n",
    "\n",
    "for epoch in range(5):\n",
    "    print(f\"Epoch {epoch+1}/{5}\")\n",
    "    for batch in range(num_batches):\n",
    "        start = batch * batch_size\n",
    "        end = start + batch_size\n",
    "\n",
    "        x_batch = cv_train_reviews[start:end]\n",
    "        y_batch = y_train[start:end]\n",
    "\n",
    "        model.train_on_batch(x_batch, y_batch)"
   ]
  },
  {
   "cell_type": "code",
   "execution_count": null,
   "id": "96ab3290",
   "metadata": {},
   "outputs": [],
   "source": [
    "[model.fit(cv_train_reviews, y_train, epochs=5)]"
   ]
  },
  {
   "cell_type": "code",
   "execution_count": null,
   "id": "f74ee230",
   "metadata": {},
   "outputs": [],
   "source": [
    "from joblib import dump, load\n",
    "dump(model, 'CNN.model') "
   ]
  },
  {
   "cell_type": "code",
   "execution_count": null,
   "id": "7e61f60f",
   "metadata": {},
   "outputs": [],
   "source": [
    "pred = (model.predict(cv_test_reviews) > 0.9999)"
   ]
  },
  {
   "cell_type": "code",
   "execution_count": null,
   "id": "2c06e2aa",
   "metadata": {},
   "outputs": [],
   "source": [
    "accuracy_score(pred,y_test)\n"
   ]
  },
  {
   "cell_type": "code",
   "execution_count": null,
   "id": "82784e3d",
   "metadata": {},
   "outputs": [],
   "source": [
    "accuracy_score(pred,y_test)"
   ]
  },
  {
   "cell_type": "code",
   "execution_count": null,
   "id": "2605a249",
   "metadata": {},
   "outputs": [],
   "source": [
    "accuracy_score(pred,y_test)"
   ]
  },
  {
   "cell_type": "code",
   "execution_count": null,
   "id": "91244e06",
   "metadata": {},
   "outputs": [],
   "source": [
    "cm_cv = confusion_matrix(pred,y_test)\n",
    "cm_cv"
   ]
  },
  {
   "cell_type": "code",
   "execution_count": null,
   "id": "8087acc8",
   "metadata": {},
   "outputs": [],
   "source": [
    "cm_cv = confusion_matrix(pred,y_test)\n",
    "cm_cv"
   ]
  },
  {
   "cell_type": "code",
   "execution_count": null,
   "id": "2fa4f2b2",
   "metadata": {},
   "outputs": [],
   "source": [
    "cm_cv1 = confusion_matrix(pred,y_test)\n",
    "cm_cv1"
   ]
  },
  {
   "cell_type": "code",
   "execution_count": null,
   "id": "d704e97b",
   "metadata": {},
   "outputs": [],
   "source": [
    "cm_cv2 = confusion_matrix(y_test,pred)\n",
    "cm_cv2"
   ]
  },
  {
   "cell_type": "code",
   "execution_count": null,
   "id": "e4f3c703",
   "metadata": {},
   "outputs": [],
   "source": [
    "plt.figure(figsize = (10,10))\n",
    "sns.heatmap(cm_cv,cmap= \"Blues\",annot = True, fmt='')"
   ]
  },
  {
   "cell_type": "code",
   "execution_count": null,
   "id": "803f30c5",
   "metadata": {},
   "outputs": [],
   "source": [
    "plt.figure(figsize = (10,10))\n",
    "sns.heatmap(cm_cv,cmap= \"Blues\",annot = True, fmt='')"
   ]
  },
  {
   "cell_type": "code",
   "execution_count": null,
   "id": "51d4ea03",
   "metadata": {},
   "outputs": [],
   "source": [
    "plt.figure(figsize = (10,10))\n",
    "sns.heatmap(cm_cv1,cmap= \"Blues\",annot = True, fmt='')\n"
   ]
  },
  {
   "cell_type": "code",
   "execution_count": null,
   "id": "5c120743",
   "metadata": {},
   "outputs": [],
   "source": []
  },
  {
   "cell_type": "code",
   "execution_count": null,
   "id": "c734e4b5",
   "metadata": {},
   "outputs": [],
   "source": []
  },
  {
   "cell_type": "code",
   "execution_count": null,
   "id": "fb4ba4b6",
   "metadata": {},
   "outputs": [],
   "source": []
  }
 ],
 "metadata": {
  "kernelspec": {
   "display_name": "Python 3 (ipykernel)",
   "language": "python",
   "name": "python3"
  },
  "language_info": {
   "codemirror_mode": {
    "name": "ipython",
    "version": 3
   },
   "file_extension": ".py",
   "mimetype": "text/x-python",
   "name": "python",
   "nbconvert_exporter": "python",
   "pygments_lexer": "ipython3",
   "version": "3.10.10"
  }
 },
 "nbformat": 4,
 "nbformat_minor": 5
}
